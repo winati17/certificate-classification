{
 "cells": [
  {
   "cell_type": "code",
   "execution_count": null,
   "metadata": {},
   "outputs": [
    {
     "name": "stderr",
     "output_type": "stream",
     "text": [
      "Neither CUDA nor MPS are available - defaulting to CPU. Note: This module is much faster with a GPU.\n"
     ]
    },
    {
     "name": "stdout",
     "output_type": "stream",
     "text": [
      "Processing 424725446-2-1.png...\n",
      "Saved 424725446-2-1.png to ocr_results_gpu.csv\n",
      "Processing 424725446-3-1.png...\n",
      "Error performing OCR on 2024-img-cleaned\\424725446-3-1.png: [enforce fail at alloc_cpu.cpp:115] data. DefaultCPUAllocator: not enough memory: you tried to allocate 1195376640 bytes.\n",
      "Processing 424725533-1-1.png...\n",
      "Saved 424725533-1-1.png to ocr_results_gpu.csv\n",
      "Processing 424729080-1-1.png...\n",
      "Saved 424729080-1-1.png to ocr_results_gpu.csv\n",
      "Processing 424729080-3-1.png...\n",
      "Saved 424729080-3-1.png to ocr_results_gpu.csv\n"
     ]
    },
    {
     "ename": "",
     "evalue": "",
     "output_type": "error",
     "traceback": [
      "\u001b[1;31mThe Kernel crashed while executing code in the current cell or a previous cell. \n",
      "\u001b[1;31mPlease review the code in the cell(s) to identify a possible cause of the failure. \n",
      "\u001b[1;31mClick <a href='https://aka.ms/vscodeJupyterKernelCrash'>here</a> for more info. \n",
      "\u001b[1;31mView Jupyter <a href='command:jupyter.viewOutput'>log</a> for further details."
     ]
    }
   ],
   "source": [
    "import os\n",
    "import pandas as pd\n",
    "import easyocr\n",
    "from pathlib import Path\n",
    "\n",
    "reader = easyocr.Reader(['id', 'en'], gpu = True)\n",
    "cleaned_image_folder = \"2024-img-cleaned\"\n",
    "image_files = [f for f in os.listdir(cleaned_image_folder)]\n",
    "image_files = image_files[-5:]\n",
    "output_file = 'ocr_results_gpu.csv'\n",
    "\n",
    "if not os.path.exists(output_file):\n",
    "    df = pd.DataFrame(columns=['id', 'fulltext'])\n",
    "    df.to_csv(output_file, index=False)\n",
    "\n",
    "for image_file in image_files:\n",
    "    try:\n",
    "        image_path = os.path.join(cleaned_image_folder, image_file)\n",
    "        print(f\"Processing {image_file}...\")\n",
    "        text = reader.readtext(image_path, detail=0)\n",
    "        result = {'id': Path(image_path).stem, 'fulltext': ' '.join(text)}\n",
    "\n",
    "        df = pd.DataFrame([result])\n",
    "        df.to_csv(output_file, mode='a', header=False, index=False)\n",
    "        print(f\"Saved {image_file} to {output_file}\")\n",
    "    except Exception as e:\n",
    "        print(f\"Error performing OCR on {image_path}: {str(e)}\")"
   ]
  }
 ],
 "metadata": {
  "kernelspec": {
   "display_name": ".venv",
   "language": "python",
   "name": "python3"
  },
  "language_info": {
   "codemirror_mode": {
    "name": "ipython",
    "version": 3
   },
   "file_extension": ".py",
   "mimetype": "text/x-python",
   "name": "python",
   "nbconvert_exporter": "python",
   "pygments_lexer": "ipython3",
   "version": "3.12.9"
  }
 },
 "nbformat": 4,
 "nbformat_minor": 2
}
