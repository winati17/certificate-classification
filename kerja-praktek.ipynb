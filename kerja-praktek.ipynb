{
 "cells": [
  {
   "cell_type": "code",
   "execution_count": 2,
   "metadata": {},
   "outputs": [],
   "source": [
    "import fitz\n",
    "\n",
    "pdffile = \"example.pdf\"\n",
    "doc = fitz.open(pdffile)\n",
    "zoom = 4\n",
    "mat = fitz.Matrix(zoom, zoom)\n",
    "count = 0\n",
    "# Count variable is to get the number of pages in the pdf\n",
    "for p in doc:\n",
    "    count += 1\n",
    "for i in range(count):\n",
    "    val = f\"image_{i+1}.png\"\n",
    "    page = doc.load_page(i)\n",
    "    pix = page.get_pixmap(matrix=mat)\n",
    "    pix.save(val)\n",
    "doc.close()"
   ]
  },
  {
   "cell_type": "code",
   "execution_count": 11,
   "metadata": {},
   "outputs": [
    {
     "name": "stderr",
     "output_type": "stream",
     "text": [
      "Neither CUDA nor MPS are available - defaulting to CPU. Note: This module is much faster with a GPU.\n"
     ]
    },
    {
     "name": "stdout",
     "output_type": "stream",
     "text": [
      "['POSI', 'Pusot', 'Olimpiode Sains Indonesia', 'Piagam Penghargaan', 'No : 288/posı/Nysı/xıı/2023', 'Pusat Olimpiade Sains Indonesia (PosI) memberikan penghargaan kepada', 'Nama', 'ALYA MUKBHITA YUNUS', 'Asal Sekolah/Instansi', 'SMA NEGERI 2 KOTA TERNATE', 'Provinsi', 'MALUKU UTARA', 'Bidang =', 'BEST', 'BIOLOGI', 'NYSI 2023', 'Jenjang', 'NationaL Young', 'Movatioi', 'SISWA SMA/MA/sMK', 'Atas', 'Prestasinya sebagai', 'PERAIH MEDALI EMAS', 'NATI@NALY@UNOSCENIISTIN@VATI@N(1si)2023', 'Tingkat Mahasiswa, Guru dan Siswa Jenjang SD/MI, SMP/MTs dan SMA/MA/ SMK se-Indonesia', 'Yang dilaksanakan secara daring pada tanggal 17 Desember 2023.', 'Medan, 17 Desember 2023', 'Media Partner', 'POSI', 'ker', 'Panitia', 'Billaela', 'ELCI', 'Éainker', '9', 'POS', 'smartchampon', 'Fonsow', 'FahruroüoSP!CT. NNLP, C.NCA', 'zsshhiuti $', 'Terdaftar di Kementerian dengan No. AHU-0016336.AH.01.12 Tahun 2017, Tanggal 30 Agustus 2017', 'SA@S', 'Lmplade_', 'Nationa}', 'Young', '9', 'Scientist _', '\"Innovatisi']\n"
     ]
    }
   ],
   "source": [
    "import easyocr\n",
    "\n",
    "reader = easyocr.Reader(['id','en'])\n",
    "result = reader.readtext(\"example.png\", detail=0)\n",
    "print(result)"
   ]
  },
  {
   "cell_type": "code",
   "execution_count": 14,
   "metadata": {},
   "outputs": [],
   "source": [
    "import fitz\n",
    "\n",
    "pdffile = \"424001098-1.pdf\"\n",
    "doc = fitz.open(pdffile)\n",
    "zoom = 4\n",
    "mat = fitz.Matrix(zoom, zoom)\n",
    "count = 0\n",
    "# Count variable is to get the number of pages in the pdf\n",
    "for p in doc:\n",
    "    count += 1\n",
    "for i in range(count):\n",
    "    val = f\"image_{i+1}.png\"\n",
    "    page = doc.load_page(i)\n",
    "    pix = page.get_pixmap(matrix=mat)\n",
    "    pix.save(val)\n",
    "doc.close()"
   ]
  }
 ],
 "metadata": {
  "kernelspec": {
   "display_name": ".venv",
   "language": "python",
   "name": "python3"
  },
  "language_info": {
   "codemirror_mode": {
    "name": "ipython",
    "version": 3
   },
   "file_extension": ".py",
   "mimetype": "text/x-python",
   "name": "python",
   "nbconvert_exporter": "python",
   "pygments_lexer": "ipython3",
   "version": "3.12.9"
  }
 },
 "nbformat": 4,
 "nbformat_minor": 2
}
