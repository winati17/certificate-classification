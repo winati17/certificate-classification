{
 "cells": [
  {
   "cell_type": "code",
   "execution_count": 2,
   "metadata": {},
   "outputs": [
    {
     "name": "stderr",
     "output_type": "stream",
     "text": [
      "Neither CUDA nor MPS are available - defaulting to CPU. Note: This module is much faster with a GPU.\n"
     ]
    },
    {
     "name": "stdout",
     "output_type": "stream",
     "text": [
      "['4', '1', '2', 'Eif', '2', '1', '0', '1', '=', '7', '1', '5', '1', '2', \"'\", 'F', '1,', '1', '1', '[', '1', '2', '1', '4', '9', '1', '7', '8', 'É', '1i', '18', '1', 'Ml', '5', 'M', '1', '1', '1', '2', '{', '7', '5', 'Z', '1', ';', '7', ':', '1', '1', '1', ';', '1', '1']\n"
     ]
    }
   ],
   "source": [
    "import easyocr\n",
    "\n",
    "reader = easyocr.Reader(['id','en'])\n",
    "result = reader.readtext(\"2024-img-cleaned/424036995-1-1.png\", detail=0)\n",
    "print(result)"
   ]
  }
 ],
 "metadata": {
  "kernelspec": {
   "display_name": ".venv",
   "language": "python",
   "name": "python3"
  },
  "language_info": {
   "codemirror_mode": {
    "name": "ipython",
    "version": 3
   },
   "file_extension": ".py",
   "mimetype": "text/x-python",
   "name": "python",
   "nbconvert_exporter": "python",
   "pygments_lexer": "ipython3",
   "version": "3.12.9"
  }
 },
 "nbformat": 4,
 "nbformat_minor": 2
}
